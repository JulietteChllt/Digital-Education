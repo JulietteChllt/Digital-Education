{
 "cells": [
  {
   "cell_type": "markdown",
   "id": "21097f05",
   "metadata": {},
   "source": [
    "# Loss Functions"
   ]
  },
  {
   "cell_type": "code",
   "execution_count": null,
   "id": "0b331914",
   "metadata": {},
   "outputs": [],
   "source": [
    "import matplotlib.pyplot as plt\n",
    "import numpy as np\n",
    "from matplotlib.pyplot import figure"
   ]
  },
  {
   "cell_type": "code",
   "execution_count": null,
   "id": "c0a2b78f",
   "metadata": {},
   "outputs": [],
   "source": [
    "x=np.arange(0,13,2)\n",
    "y=np.arange(0,7,1)\n",
    "figure(figsize=(8, 2), dpi=100)\n",
    "plt.subplot(1, 2, 1)\n",
    "y1_prime=[1,1.5,2,4,4.5,3,5.5]\n",
    "plt.plot(x,y,color=\"red\")\n",
    "plt.plot(x,y1_prime,'+', linewidth=6, markersize=7)\n",
    "plt.xticks(np.arange(0,13,1))\n",
    "plt.yticks(np.arange(0,7,1))\n",
    "plt.grid(color='silver', linestyle='dashed')\n",
    "plt.title('Graph 1')\n",
    "#plt.show()\n",
    "\n",
    "plt.subplot(1, 2, 2)\n",
    "y2_prime=[2,2,3,2,4,5,6]\n",
    "plt.plot(x,y,color=\"red\")\n",
    "plt.plot(x,y2_prime,'+', linewidth=6, markersize=7)\n",
    "plt.xticks(np.arange(0,13,1))\n",
    "plt.yticks(np.arange(0,7,1))\n",
    "plt.grid(color='silver', linestyle='dashed')\n",
    "plt.title('Graph 2')\n",
    "#plt.show()\n",
    "\n",
    "plt.show()"
   ]
  },
  {
   "cell_type": "code",
   "execution_count": null,
   "id": "8d01a370",
   "metadata": {},
   "outputs": [],
   "source": [
    "import otter\n",
    "grader = otter.Notebook()"
   ]
  },
  {
   "cell_type": "markdown",
   "id": "2f0cfddd",
   "metadata": {},
   "source": [
    "## Calculate MAE"
   ]
  },
  {
   "cell_type": "markdown",
   "id": "1bcc8921",
   "metadata": {},
   "source": [
    "Write down below the MAE of graph 1"
   ]
  },
  {
   "cell_type": "code",
   "execution_count": null,
   "id": "5ece8f9f",
   "metadata": {
    "tags": []
   },
   "outputs": [],
   "source": [
    "mae1 = None #YOUR CODE HERE\n",
    "..."
   ]
  },
  {
   "cell_type": "code",
   "execution_count": null,
   "id": "eec02481",
   "metadata": {
    "deletable": false,
    "editable": false
   },
   "outputs": [],
   "source": [
    "grader.check(\"MAE1\")"
   ]
  },
  {
   "cell_type": "markdown",
   "id": "4b0bc61d",
   "metadata": {},
   "source": [
    "Write down below the MAE of graph 2 (ex: 0.0)"
   ]
  },
  {
   "cell_type": "code",
   "execution_count": null,
   "id": "81ba1a9b",
   "metadata": {
    "tags": []
   },
   "outputs": [],
   "source": [
    "mae2 = None #YOUR CODE HERE\n",
    "..."
   ]
  },
  {
   "cell_type": "code",
   "execution_count": null,
   "id": "ba922463",
   "metadata": {
    "deletable": false,
    "editable": false
   },
   "outputs": [],
   "source": [
    "grader.check(\"MAE2\")"
   ]
  },
  {
   "cell_type": "markdown",
   "id": "67129e06",
   "metadata": {},
   "source": [
    "Which one of these graph has the lowest loss given the mean absolute error loss function ? (Write down either 1 or 2 in the following cell)"
   ]
  },
  {
   "cell_type": "code",
   "execution_count": null,
   "id": "3ca804bc",
   "metadata": {
    "tags": []
   },
   "outputs": [],
   "source": [
    "minimumLoss = None #YOUR CODE HERE\n",
    "..."
   ]
  },
  {
   "cell_type": "code",
   "execution_count": null,
   "id": "d6003d94",
   "metadata": {
    "deletable": false,
    "editable": false
   },
   "outputs": [],
   "source": [
    "grader.check(\"MAE3\")"
   ]
  },
  {
   "cell_type": "markdown",
   "id": "54980d75",
   "metadata": {},
   "source": [
    "## Calculate MSE"
   ]
  },
  {
   "cell_type": "markdown",
   "id": "994b5eeb",
   "metadata": {},
   "source": [
    "Write down below the MSE of graph 1 (ex: 0.0)"
   ]
  },
  {
   "cell_type": "code",
   "execution_count": null,
   "id": "498a6d35",
   "metadata": {
    "tags": []
   },
   "outputs": [],
   "source": [
    "mse1 = None #YOUR CODE HERE\n",
    "..."
   ]
  },
  {
   "cell_type": "code",
   "execution_count": null,
   "id": "5eea884b",
   "metadata": {
    "deletable": false,
    "editable": false
   },
   "outputs": [],
   "source": [
    "grader.check(\"MSE1\")"
   ]
  },
  {
   "cell_type": "markdown",
   "id": "bca4ab61",
   "metadata": {},
   "source": [
    "Write down below the MSE of graph 2 (ex: 0.0)"
   ]
  },
  {
   "cell_type": "code",
   "execution_count": null,
   "id": "baa79672",
   "metadata": {
    "tags": []
   },
   "outputs": [],
   "source": [
    "mse2 = None #YOUR CODE HERE\n",
    "..."
   ]
  },
  {
   "cell_type": "code",
   "execution_count": null,
   "id": "7e009d47",
   "metadata": {
    "deletable": false,
    "editable": false
   },
   "outputs": [],
   "source": [
    "grader.check(\"MSE2\")"
   ]
  },
  {
   "cell_type": "markdown",
   "id": "94fd1c8f",
   "metadata": {},
   "source": [
    "Which one of these graph has the lowest loss given the mean squared error loss function ? (Write down either 1 or 2 in the following cell)"
   ]
  },
  {
   "cell_type": "code",
   "execution_count": null,
   "id": "3c4d7b57",
   "metadata": {
    "tags": []
   },
   "outputs": [],
   "source": [
    "minimumLoss2 = None #YOUR CODE HERE\n",
    "..."
   ]
  },
  {
   "cell_type": "code",
   "execution_count": null,
   "id": "3c6b92c6",
   "metadata": {
    "deletable": false,
    "editable": false
   },
   "outputs": [],
   "source": [
    "grader.check(\"MSE3\")"
   ]
  }
 ],
 "metadata": {
  "kernelspec": {
   "display_name": "Python",
   "language": "python",
   "name": "python3"
  },
  "language_info": {
   "codemirror_mode": {
    "name": "ipython",
    "version": 3
   },
   "file_extension": ".py",
   "mimetype": "text/x-python",
   "name": "python",
   "nbconvert_exporter": "python",
   "pygments_lexer": "ipython3",
   "version": "3.8.10"
  },
  "otter": {
   "OK_FORMAT": false,
   "tests": {
    "MAE1": "from otter.test_files import test_case\n\nOK_FORMAT = False\n\nname = \"MAE1\"\npoints = None\n\n@test_case(points=None, hidden=False, \n    success_message=\"Good job!\", \n    failure_message=\"Oops... try to check your calculations\")\ndef test_mae1(mae1):\n    msg = \"\"\n    if mae1 != 5.5:\n        msg = \"Wrong value\"\n        assert False, f\"{msg}\"\n    else :\n        assert True\n",
    "MAE2": "from otter.test_files import test_case\n\nOK_FORMAT = False\n\nname = \"MAE2\"\npoints = None\n\n@test_case(points=None, hidden=False, \n    success_message=\"Good job!\", \n    failure_message=\"Oops... try to check your calculations\")\ndef test_mae2(mae2):\n    msg = \"\"\n    if mae2 != 5:\n        msg = \"Wrong value\"\n        assert False, f\"{msg}\"\n    else :\n        assert True\n",
    "MAE3": "from otter.test_files import test_case\n\nOK_FORMAT = False\n\nname = \"MAE3\"\npoints = None\n\n@test_case(points=None, hidden=False, \n    success_message=\"Good job!\", \n    failure_message=\"Are you sure ?\")\ndef test_minimumLoss(minimumLoss):\n    msg = \"\"\n    if minimumLoss != 2:\n        msg = \"Wrong value\"\n        assert False, f\"{msg}\"\n    else :\n        assert True\n",
    "MSE1": "from otter.test_files import test_case\n\nOK_FORMAT = False\n\nname = \"MSE1\"\npoints = None\n\n@test_case(points=None, hidden=False, \n    success_message=\"Good job!\", \n    failure_message=\"Oops... try to check your calculations\")\ndef test_mse1(mse1):\n    msg = \"\"\n    if mse1 != 6.75:\n        msg = \"Wrong value\"\n        assert False, f\"{msg}\"\n    else :\n        assert True\n",
    "MSE2": "from otter.test_files import test_case\n\nOK_FORMAT = False\n\nname = \"MSE2\"\npoints = None\n\n@test_case(points=None, hidden=False, \n    success_message=\"Good job!\", \n    failure_message=\"Oops... try to check your calculations\")\ndef test_mse2(mse2):\n    msg = \"\"\n    if mse2 != 7:\n        msg = \"Wrong value\"\n        assert False, f\"{msg}\"\n    else :\n        assert True\n",
    "MSE3": "from otter.test_files import test_case\n\nOK_FORMAT = False\n\nname = \"MSE3\"\npoints = None\n\n@test_case(points=None, hidden=False, \n    success_message=\"Good job!\", \n    failure_message=\"Are you sure ?\")\ndef test_minimumLoss2(minimumLoss2):\n    msg = \"\"\n    if minimumLoss2 != 1:\n        msg = \"Wrong value\"\n        assert False, f\"{msg}\"\n    else :\n        assert True\n"
   }
  }
 },
 "nbformat": 4,
 "nbformat_minor": 5
}
