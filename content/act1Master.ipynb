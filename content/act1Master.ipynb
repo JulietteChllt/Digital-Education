{
 "cells": [
  {
   "cell_type": "raw",
   "id": "2ea34428-b12e-47c9-9621-4b426392b21b",
   "metadata": {},
   "source": [
    "# ASSIGNMENT CONFIG\n",
    "init_cell: false\n",
    "export_cell: false\n",
    "tests:\n",
    "  ok_format: false"
   ]
  },
  {
   "cell_type": "markdown",
   "id": "b48f4a3d-3d33-4722-b1b1-846e0445b2d7",
   "metadata": {},
   "source": [
    "# Loss Functions"
   ]
  },
  {
   "cell_type": "code",
   "execution_count": 1,
   "id": "991c0beb-8b22-4dca-b0fe-65213a47b4b7",
   "metadata": {},
   "outputs": [],
   "source": [
    "import matplotlib.pyplot as plt\n",
    "import numpy as np\n",
    "from matplotlib.pyplot import figure"
   ]
  },
  {
   "cell_type": "code",
   "execution_count": 2,
   "id": "1cc283de-761b-4ffd-8ffe-d8d671bb3b92",
   "metadata": {},
   "outputs": [
    {
     "data": {
      "image/png": "[encoded data removed]",
      "text/plain": [
       "<Figure size 800x200 with 2 Axes>"
      ]
     },
     "metadata": {},
     "output_type": "display_data"
    }
   ],
   "source": [
    "x=np.arange(0,13,2)\n",
    "y=np.arange(0,7,1)\n",
    "figure(figsize=(8, 2), dpi=100)\n",
    "plt.subplot(1, 2, 1)\n",
    "y1_prime=[1,1.5,2,4,4.5,3,5.5]\n",
    "plt.plot(x,y,color=\"red\")\n",
    "plt.plot(x,y1_prime,'+', linewidth=6, markersize=7)\n",
    "plt.xticks(np.arange(0,13,1))\n",
    "plt.yticks(np.arange(0,7,1))\n",
    "plt.grid(color='silver', linestyle='dashed')\n",
    "plt.title('Graph 1')\n",
    "#plt.show()\n",
    "\n",
    "plt.subplot(1, 2, 2)\n",
    "y2_prime=[2,2,3,2,4,5,6]\n",
    "plt.plot(x,y,color=\"red\")\n",
    "plt.plot(x,y2_prime,'+', linewidth=6, markersize=7)\n",
    "plt.xticks(np.arange(0,13,1))\n",
    "plt.yticks(np.arange(0,7,1))\n",
    "plt.grid(color='silver', linestyle='dashed')\n",
    "plt.title('Graph 2')\n",
    "#plt.show()\n",
    "\n",
    "plt.show()"
   ]
  },
  {
   "cell_type": "code",
   "execution_count": 3,
   "id": "c9952b76-f90d-4dc6-945d-5f494b5c90c9",
   "metadata": {},
   "outputs": [],
   "source": [
    "import otter\n",
    "grader = otter.Notebook()"
   ]
  },
  {
   "cell_type": "markdown",
   "id": "04c8a48c-c54a-4720-9759-465950e7466f",
   "metadata": {},
   "source": [
    "## Calculate MAE"
   ]
  },
  {
   "cell_type": "raw",
   "id": "86614105-7cff-4dae-909d-ce2fd1391317",
   "metadata": {},
   "source": [
    "# BEGIN QUESTION \n",
    "name: MAE1"
   ]
  },
  {
   "cell_type": "markdown",
   "id": "6acde8e9-2517-4f91-9dfe-9b58bc958d13",
   "metadata": {},
   "source": [
    "Write down below the MAE of graph 1"
   ]
  },
  {
   "cell_type": "raw",
   "id": "6a2c7966-fdfa-4c2e-b752-51f830fa4380",
   "metadata": {},
   "source": [
    "# BEGIN SOLUTION"
   ]
  },
  {
   "cell_type": "code",
   "execution_count": 4,
   "id": "ff5a1ccc-6444-42aa-8fe7-703650acf374",
   "metadata": {},
   "outputs": [],
   "source": [
    "mae1 = None #YOUR CODE HERE\n",
    "# BEGIN SOLUTION \n",
    "mae1 = 5.5\n",
    "# END SOLUTION"
   ]
  },
  {
   "cell_type": "raw",
   "id": "3c9b4ba5-39bd-41c5-941d-8dcfa1ae03da",
   "metadata": {},
   "source": [
    "# END SOLUTION"
   ]
  },
  {
   "cell_type": "raw",
   "id": "d5fa6c2b-6254-4a55-97ea-5401ab6e1b8e",
   "metadata": {},
   "source": [
    "# BEGIN TESTS"
   ]
  },
  {
   "cell_type": "code",
   "execution_count": 8,
   "id": "8e998219-71b0-45ed-9997-63496f6fb1c3",
   "metadata": {},
   "outputs": [
    {
     "ename": "AssertionError",
     "evalue": "Right value",
     "output_type": "error",
     "traceback": [
      "\u001b[0;31m---------------------------------------------------------------------------\u001b[0m",
      "\u001b[0;31mAssertionError\u001b[0m                            Traceback (most recent call last)",
      "Input \u001b[0;32mIn [8]\u001b[0m, in \u001b[0;36m<cell line: 14>\u001b[0;34m()\u001b[0m\n\u001b[1;32m     11\u001b[0m     \u001b[38;5;28;01mif\u001b[39;00m \u001b[38;5;28mlen\u001b[39m(msg)\u001b[38;5;241m!=\u001b[39m\u001b[38;5;241m0\u001b[39m :\n\u001b[1;32m     12\u001b[0m         \u001b[38;5;28;01massert\u001b[39;00m \u001b[38;5;28;01mFalse\u001b[39;00m, \u001b[38;5;124mf\u001b[39m\u001b[38;5;124m\"\u001b[39m\u001b[38;5;132;01m{\u001b[39;00mmsg\u001b[38;5;132;01m}\u001b[39;00m\u001b[38;5;124m\"\u001b[39m\n\u001b[0;32m---> 14\u001b[0m \u001b[43mtest_mae1\u001b[49m\u001b[43m(\u001b[49m\u001b[43mmae1\u001b[49m\u001b[43m)\u001b[49m\n",
      "Input \u001b[0;32mIn [8]\u001b[0m, in \u001b[0;36mtest_mae1\u001b[0;34m(mae1)\u001b[0m\n\u001b[1;32m     10\u001b[0m     msg \u001b[38;5;241m=\u001b[39m \u001b[38;5;124m\"\u001b[39m\u001b[38;5;124mRight value\u001b[39m\u001b[38;5;124m\"\u001b[39m\n\u001b[1;32m     11\u001b[0m \u001b[38;5;28;01mif\u001b[39;00m \u001b[38;5;28mlen\u001b[39m(msg)\u001b[38;5;241m!=\u001b[39m\u001b[38;5;241m0\u001b[39m :\n\u001b[0;32m---> 12\u001b[0m     \u001b[38;5;28;01massert\u001b[39;00m \u001b[38;5;28;01mFalse\u001b[39;00m, \u001b[38;5;124mf\u001b[39m\u001b[38;5;124m\"\u001b[39m\u001b[38;5;132;01m{\u001b[39;00mmsg\u001b[38;5;132;01m}\u001b[39;00m\u001b[38;5;124m\"\u001b[39m\n",
      "\u001b[0;31mAssertionError\u001b[0m: Right value"
     ]
    }
   ],
   "source": [
    "\"\"\" # BEGIN TEST CONFIG\n",
    "success_message: Good job!\n",
    "failure_message: Oops... try to check your calculations\n",
    "\"\"\" # END TEST CONFIG\n",
    "def test_mae1(mae1):\n",
    "    msg = \"\"\n",
    "    if mae1 != 5.5:\n",
    "        msg = \"Wrong value\"\n",
    "    if mae1 == 5.5:\n",
    "        msg = \"Right value\"\n",
    "    if len(msg)!=0 :\n",
    "        assert False, f\"{msg}\"\n",
    "        \n",
    "test_mae1(mae1) # IGNORE"
   ]
  },
  {
   "cell_type": "raw",
   "id": "3844d58f-1c9b-4c02-aa98-49ae961025d9",
   "metadata": {},
   "source": [
    "# END TESTS"
   ]
  },
  {
   "cell_type": "raw",
   "id": "c96e5766-1696-4e0a-8127-2f76411b183a",
   "metadata": {},
   "source": [
    "# END QUESTION "
   ]
  },
  {
   "cell_type": "raw",
   "id": "1f3ca677-a556-4a3d-99b4-bd82958ad72b",
   "metadata": {},
   "source": [
    "# BEGIN QUESTION \n",
    "name: MAE2"
   ]
  },
  {
   "cell_type": "markdown",
   "id": "13792c3d-e715-46a8-86b6-2cf9dce096cd",
   "metadata": {},
   "source": [
    "Write down below the MAE of graph 2 (ex: 0.0)"
   ]
  },
  {
   "cell_type": "raw",
   "id": "8d653ca6-05eb-4bbb-8c54-6f539e347643",
   "metadata": {},
   "source": [
    "# BEGIN SOLUTION"
   ]
  },
  {
   "cell_type": "code",
   "execution_count": 96,
   "id": "e14e04c9-77e0-4b73-9f81-f74b3744f1d7",
   "metadata": {},
   "outputs": [],
   "source": [
    "mae2 = None #YOUR CODE HERE\n",
    "# BEGIN SOLUTION\n",
    "mae2 = 5\n",
    "# END SOLUTION"
   ]
  },
  {
   "cell_type": "raw",
   "id": "9aa3d850-d5f6-4e15-819c-ff2158ba560b",
   "metadata": {},
   "source": [
    "# END SOLUTION"
   ]
  },
  {
   "cell_type": "raw",
   "id": "45de0563-4b0d-4f06-8ddc-a83cc7a66875",
   "metadata": {},
   "source": [
    "# BEGIN TESTS"
   ]
  },
  {
   "cell_type": "code",
   "execution_count": 97,
   "id": "b1711579-1f59-495b-916a-02658293b083",
   "metadata": {},
   "outputs": [],
   "source": [
    "\"\"\" # BEGIN TEST CONFIG\n",
    "success_message: Good job!\n",
    "failure_message: Oops... try to check your calculations\n",
    "\"\"\" # END TEST CONFIG\n",
    "def test_mae2(mae2):\n",
    "    msg = \"\"\n",
    "    if mae2 != 5:\n",
    "        msg = \"Wrong value\"\n",
    "        assert False, f\"{msg}\"\n",
    "    else :\n",
    "        assert True\n",
    "test_mae2(mae2) # IGNORE"
   ]
  },
  {
   "cell_type": "raw",
   "id": "203827e9-ede5-4a6f-916b-1ba31552b47f",
   "metadata": {},
   "source": [
    "# END TESTS"
   ]
  },
  {
   "cell_type": "raw",
   "id": "9281ba39-4eee-4fa5-8b71-fef650ada7e3",
   "metadata": {},
   "source": [
    "# END QUESTION "
   ]
  },
  {
   "cell_type": "raw",
   "id": "3a5e7ec6-7f94-49f1-86df-763ef1608c06",
   "metadata": {},
   "source": [
    "# BEGIN QUESTION \n",
    "name: MAE3"
   ]
  },
  {
   "cell_type": "markdown",
   "id": "8073ccbb-18ad-4a23-b0fc-f754d2fee036",
   "metadata": {},
   "source": [
    "Which one of these graph has the lowest loss given the mean absolute error loss function ? (Write down either 1 or 2 in the following cell)"
   ]
  },
  {
   "cell_type": "raw",
   "id": "a7df7255-c7de-4646-a249-0f3d25696179",
   "metadata": {},
   "source": [
    "# BEGIN SOLUTION"
   ]
  },
  {
   "cell_type": "code",
   "execution_count": 98,
   "id": "5d060e0c-5aad-4155-9ca9-dfa16cc95966",
   "metadata": {},
   "outputs": [],
   "source": [
    "minimumLoss = None #YOUR CODE HERE\n",
    "# BEGIN SOLUTION \n",
    "minimumLoss = 2\n",
    "# END SOLUTION"
   ]
  },
  {
   "cell_type": "raw",
   "id": "8d8c64f4-e9c7-4bb7-b5d5-740794d448fa",
   "metadata": {},
   "source": [
    "# END SOLUTION"
   ]
  },
  {
   "cell_type": "raw",
   "id": "cd49051c-065d-4521-a152-bf58df937178",
   "metadata": {},
   "source": [
    "# BEGIN TESTS"
   ]
  },
  {
   "cell_type": "code",
   "execution_count": 99,
   "id": "5d3ae115-d799-46a1-a83b-7e33328f9df2",
   "metadata": {},
   "outputs": [],
   "source": [
    "\"\"\" # BEGIN TEST CONFIG\n",
    "success_message: Good job!\n",
    "failure_message: Are you sure ? \n",
    "\"\"\" # END TEST CONFIG\n",
    "def test_minimumLoss(minimumLoss):\n",
    "    msg = \"\"\n",
    "    if minimumLoss != 2:\n",
    "        msg = \"Wrong value\"\n",
    "        assert False, f\"{msg}\"\n",
    "    else :\n",
    "        assert True\n",
    "test_minimumLoss(minimumLoss) # IGNORE"
   ]
  },
  {
   "cell_type": "raw",
   "id": "e24387d5-cb26-4d1d-81c2-d28dee61d62f",
   "metadata": {},
   "source": [
    "# END TESTS"
   ]
  },
  {
   "cell_type": "raw",
   "id": "eab0361f-d6a5-4928-818c-bb0f9a40d067",
   "metadata": {},
   "source": [
    "# END QUESTION"
   ]
  },
  {
   "cell_type": "markdown",
   "id": "07d6b0a7-25ca-4a2c-9abb-a50e138cb07b",
   "metadata": {},
   "source": [
    "## Calculate MSE"
   ]
  },
  {
   "cell_type": "raw",
   "id": "4b2c4325-d006-4d30-8b76-209d3d91c8d0",
   "metadata": {},
   "source": [
    "# BEGIN QUESTION \n",
    "name: MSE1"
   ]
  },
  {
   "cell_type": "markdown",
   "id": "0f27cfe0-4a22-4a3e-b74e-c9a2782ea7c3",
   "metadata": {},
   "source": [
    "Write down below the MSE of graph 1 (ex: 0.0)"
   ]
  },
  {
   "cell_type": "raw",
   "id": "daea0412-70f2-4a13-8acd-39ec13c18b94",
   "metadata": {},
   "source": [
    "# BEGIN SOLUTION"
   ]
  },
  {
   "cell_type": "code",
   "execution_count": 100,
   "id": "f8ca9572-30f0-47ca-847c-fca931890a72",
   "metadata": {},
   "outputs": [],
   "source": [
    "mse1 = None #YOUR CODE HERE\n",
    "# BEGIN SOLUTION\n",
    "mse1 = 6.75\n",
    "# END SOLUTION"
   ]
  },
  {
   "cell_type": "raw",
   "id": "aacc7ee6-b374-4e93-b10c-7d214750af10",
   "metadata": {},
   "source": [
    "# END SOLUTION"
   ]
  },
  {
   "cell_type": "raw",
   "id": "739eaa19-6ecd-4b03-8212-01f297f3a2a3",
   "metadata": {},
   "source": [
    "# BEGIN TESTS"
   ]
  },
  {
   "cell_type": "code",
   "execution_count": 101,
   "id": "401e0a41-e4c7-4004-9789-246463257109",
   "metadata": {},
   "outputs": [],
   "source": [
    "\"\"\" # BEGIN TEST CONFIG\n",
    "success_message: Good job!\n",
    "failure_message: Oops... try to check your calculations\n",
    "\"\"\" # END TEST CONFIG\n",
    "def test_mse1(mse1):\n",
    "    msg = \"\"\n",
    "    if mse1 != 6.75:\n",
    "        msg = \"Wrong value\"\n",
    "        assert False, f\"{msg}\"\n",
    "    else :\n",
    "        assert True\n",
    "test_mse1(mse1) # IGNORE"
   ]
  },
  {
   "cell_type": "raw",
   "id": "40cede79-d335-43e0-91b5-9f0dbcd3f30d",
   "metadata": {},
   "source": [
    "# END TESTS"
   ]
  },
  {
   "cell_type": "raw",
   "id": "ae1a7bbc-2c39-4cf1-bbea-79e9018d20de",
   "metadata": {},
   "source": [
    "# END QUESTION"
   ]
  },
  {
   "cell_type": "raw",
   "id": "a77bec4a-12e8-46c7-8c9d-c36368412222",
   "metadata": {},
   "source": [
    "# BEGIN QUESTION \n",
    "name: MSE2"
   ]
  },
  {
   "cell_type": "markdown",
   "id": "6304f66b-b32c-409b-8f02-fd7f9019a42d",
   "metadata": {},
   "source": [
    "Write down below the MSE of graph 2 (ex: 0.0)"
   ]
  },
  {
   "cell_type": "raw",
   "id": "faf1878e-1dab-495a-9803-b0b00e7300db",
   "metadata": {},
   "source": [
    "# BEGIN SOLUTION"
   ]
  },
  {
   "cell_type": "code",
   "execution_count": 102,
   "id": "8399ca88-9d0c-47ee-a215-e27183807f60",
   "metadata": {},
   "outputs": [],
   "source": [
    "mse2 = None #YOUR CODE HERE\n",
    "# BEGIN SOLUTION\n",
    "mse2 = 7\n",
    "# END SOLUTION"
   ]
  },
  {
   "cell_type": "raw",
   "id": "181fa6b6-0c83-440a-b8a2-6c6ecd98af02",
   "metadata": {},
   "source": [
    "# END SOLUTION"
   ]
  },
  {
   "cell_type": "raw",
   "id": "2d95e2fb-85ed-4983-afb4-071e0e3a3d20",
   "metadata": {},
   "source": [
    "# BEGIN TESTS"
   ]
  },
  {
   "cell_type": "code",
   "execution_count": 103,
   "id": "a2b9b2b9-725e-49aa-90ac-157fb2946ee3",
   "metadata": {},
   "outputs": [],
   "source": [
    "\"\"\" # BEGIN TEST CONFIG\n",
    "success_message: Good job!\n",
    "failure_message: Oops... try to check your calculations\n",
    "\"\"\" # END TEST CONFIG\n",
    "def test_mse2(mse2):\n",
    "    msg = \"\"\n",
    "    if mse2 != 7:\n",
    "        msg = \"Wrong value\"\n",
    "        assert False, f\"{msg}\"\n",
    "    else :\n",
    "        assert True\n",
    "test_mse2(mse2) # IGNORE"
   ]
  },
  {
   "cell_type": "raw",
   "id": "67c0c4c8-d24a-44fd-ac02-f3aef4fcb0ae",
   "metadata": {},
   "source": [
    "# END TESTS"
   ]
  },
  {
   "cell_type": "raw",
   "id": "7f910c41-68d1-4c37-97d3-d4d41595d880",
   "metadata": {},
   "source": [
    "# END QUESTION"
   ]
  },
  {
   "cell_type": "raw",
   "id": "ac41103f-c7d5-4055-a423-de70fb81e12f",
   "metadata": {},
   "source": [
    "# BEGIN QUESTION \n",
    "name: MSE3"
   ]
  },
  {
   "cell_type": "markdown",
   "id": "e5af6248-b729-47dd-93dd-a9577975b3cc",
   "metadata": {},
   "source": [
    "Which one of these graph has the lowest loss given the mean squared error loss function ? (Write down either 1 or 2 in the following cell)"
   ]
  },
  {
   "cell_type": "raw",
   "id": "c9e5b5a4-8378-4c06-88eb-81fbcfe58ec4",
   "metadata": {},
   "source": [
    "# BEGIN SOLUTION"
   ]
  },
  {
   "cell_type": "code",
   "execution_count": 104,
   "id": "fade7106-82f2-476f-8460-80dfa5d789dd",
   "metadata": {},
   "outputs": [],
   "source": [
    "minimumLoss2 = None #YOUR CODE HERE\n",
    "# BEGIN SOLUTION\n",
    "minimumLoss2 = 1\n",
    "# END SOLUTION"
   ]
  },
  {
   "cell_type": "raw",
   "id": "926c2b2e-dfa3-477b-b2e2-af11d25ea64b",
   "metadata": {},
   "source": [
    "# END SOLUTION"
   ]
  },
  {
   "cell_type": "raw",
   "id": "c078c069-2bd6-4803-803e-f0093b27b9bd",
   "metadata": {},
   "source": [
    "# BEGIN TESTS"
   ]
  },
  {
   "cell_type": "code",
   "execution_count": 105,
   "id": "394e0adf-e755-49d5-836b-55b9161575ab",
   "metadata": {},
   "outputs": [],
   "source": [
    "\"\"\" # BEGIN TEST CONFIG\n",
    "success_message: Good job!\n",
    "failure_message: Are you sure ? \n",
    "\"\"\" # END TEST CONFIG\n",
    "def test_minimumLoss2(minimumLoss2):\n",
    "    msg = \"\"\n",
    "    if minimumLoss2 != 1:\n",
    "        msg = \"Wrong value\"\n",
    "        assert False, f\"{msg}\"\n",
    "    else :\n",
    "        assert True\n",
    "test_minimumLoss2(minimumLoss2) # IGNORE"
   ]
  },
  {
   "cell_type": "raw",
   "id": "7a7e0002-3140-4c72-a5c9-b6cda15b38b8",
   "metadata": {},
   "source": [
    "# END TESTS"
   ]
  },
  {
   "cell_type": "raw",
   "id": "5a46bc4a-b5d1-467c-8984-166ae2c50218",
   "metadata": {},
   "source": [
    "# END QUESTION"
   ]
  }
 ],
 "metadata": {
  "kernelspec": {
   "display_name": "Python",
   "language": "python",
   "name": "python3"
  },
  "language_info": {
   "codemirror_mode": {
    "name": "ipython",
    "version": 3
   },
   "file_extension": ".py",
   "mimetype": "text/x-python",
   "name": "python",
   "nbconvert_exporter": "python",
   "pygments_lexer": "ipython3",
   "version": "3.8.10"
  }
 },
 "nbformat": 4,
 "nbformat_minor": 5
}
