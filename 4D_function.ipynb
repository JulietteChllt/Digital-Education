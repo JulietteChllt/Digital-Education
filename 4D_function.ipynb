{
  "metadata": {
    "language_info": {
      "codemirror_mode": {
        "name": "python",
        "version": 3
      },
      "file_extension": ".py",
      "mimetype": "text/x-python",
      "name": "python",
      "nbconvert_exporter": "python",
      "pygments_lexer": "ipython3",
      "version": "3.8"
    },
    "kernelspec": {
      "name": "python",
      "display_name": "Python (Pyodide)",
      "language": "python"
    }
  },
  "nbformat_minor": 4,
  "nbformat": 4,
  "cells": [
    {
      "cell_type": "code",
      "source": "import numpy as np\nimport sys\nimport matplotlib.pyplot as plt\nimport piplite\nawait piplite.install(\"ipywidgets\")\nawait piplite.install(\"ipympl\")\nimport ipywidgets as widgets\n%matplotlib widget\n%matplotlib inline\nfrom matplotlib import cm\n\n# Define the function that we are interested in\ndef f(x, y, z):\n    return (-2*x**2*z+x**4)*x**2+3*z*y+(-4+4*y**2)\n\nx = np.linspace(-5, 5)\ny = np.linspace(-5, 5)\nz = np.linspace(-5, 5)\nxg, yg = np.meshgrid(x, y)\n\nN=0.1\n@widgets.interact(x=(-5, 5, N), y=(-5, 5, N), z=(-5,5,N))\ndef print_function(x=0, y=0, z=0):\n    print(\"x=%.2f, y=%.2f, z=%.2f, f(x,y)=%.2f\"%(x, y, z, f(x, y, z)))\n",
      "metadata": {
        "trusted": true
      },
      "execution_count": 48,
      "outputs": [
        {
          "output_type": "display_data",
          "data": {
            "text/plain": "interactive(children=(FloatSlider(value=0.0, description='x', max=5.0, min=-5.0), FloatSlider(value=0.0, descr…",
            "application/vnd.jupyter.widget-view+json": {
              "version_major": 2,
              "version_minor": 0,
              "model_id": "dc8fc704fcff4c238c7da52c60e340be"
            }
          },
          "metadata": {}
        }
      ]
    },
    {
      "cell_type": "code",
      "source": "",
      "metadata": {},
      "execution_count": null,
      "outputs": []
    }
  ]
}